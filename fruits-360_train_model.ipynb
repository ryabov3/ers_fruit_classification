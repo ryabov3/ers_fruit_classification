{
 "cells": [
  {
   "cell_type": "markdown",
   "id": "b1df9d8b-4855-425e-9fda-e214c0f4c4bd",
   "metadata": {},
   "source": [
    "# Импорт библиотек"
   ]
  },
  {
   "cell_type": "code",
   "execution_count": 1,
   "id": "46ae4558-9c96-4525-bcd9-138900a0c171",
   "metadata": {},
   "outputs": [],
   "source": [
    "import torch\n",
    "import torch.nn as nn\n",
    "import torch.optim as optim\n",
    "import torchvision.transforms.v2 as v2\n",
    "from torchvision.datasets import ImageFolder\n",
    "from torch.utils.data import DataLoader, random_split\n",
    "import os\n",
    "from torch.optim.lr_scheduler import ReduceLROnPlateau\n",
    "from tqdm import tqdm"
   ]
  },
  {
   "cell_type": "markdown",
   "id": "51b8513c-dc5c-4d47-aebf-1788febadf30",
   "metadata": {},
   "source": [
    "# Подготовка данных"
   ]
  },
  {
   "cell_type": "code",
   "execution_count": 19,
   "id": "8ab81e79-a111-4c3a-b371-a504a007c421",
   "metadata": {},
   "outputs": [],
   "source": [
    "device = torch.device('cuda' if torch.cuda.is_available() else 'cpu')\n",
    "\n",
    "batch_size = 64\n",
    "num_epochs = 15\n",
    "\n",
    "transform = v2.Compose([\n",
    "    v2.Resize((100, 100)),  # Все изображения 100x100\n",
    "    v2.ToTensor(),\n",
    "    v2.Normalize(mean=[0.485, 0.456, 0.406], std=[0.229, 0.224, 0.225])\n",
    "])\n",
    "\n",
    "\n",
    "full_dataset = ImageFolder(root='datasets/fruits-360/dataset/train', transform=transform)\n",
    "\n",
    "train_size = int(0.8 * len(full_dataset))\n",
    "val_size = len(full_dataset) - train_size\n",
    "train_dataset, val_dataset = random_split(full_dataset, [train_size, val_size])\n",
    "\n",
    "test_dataset = ImageFolder(root='datasets/fruits-360/dataset/test', transform=transform)\n",
    "\n",
    "train_loader = DataLoader(train_dataset, batch_size=batch_size, shuffle=True)\n",
    "val_loader = DataLoader(val_dataset, batch_size=batch_size, shuffle=False)\n",
    "test_loader = DataLoader(test_dataset, batch_size=batch_size, shuffle=False)"
   ]
  },
  {
   "cell_type": "markdown",
   "id": "db2d825f-6ab3-4f45-95e5-616050326462",
   "metadata": {},
   "source": [
    "# Модель"
   ]
  },
  {
   "cell_type": "code",
   "execution_count": 7,
   "id": "3442c626-5f04-4025-b60f-356b902f6823",
   "metadata": {},
   "outputs": [],
   "source": [
    "class FruitCNN(nn.Module):\n",
    "    def __init__(self, num_classes):\n",
    "        super(FruitCNN, self).__init__()\n",
    "        self.conv1 = nn.Conv2d(3, 32, kernel_size=3, padding=1)\n",
    "        self.bn1 = nn.BatchNorm2d(32)\n",
    "        self.conv2 = nn.Conv2d(32, 64, kernel_size=3, padding=1)\n",
    "        self.bn2 = nn.BatchNorm2d(64)\n",
    "        self.conv3 = nn.Conv2d(64, 128, kernel_size=3, padding=1)\n",
    "        self.bn3 = nn.BatchNorm2d(128)\n",
    "        self.conv4 = nn.Conv2d(128, 256, kernel_size=3, padding=1)\n",
    "        self.bn4 = nn.BatchNorm2d(256)\n",
    "        self.pool = nn.MaxPool2d(2, 2)\n",
    "        \n",
    "        self.fc1 = nn.Linear(256 * 6 * 6, 1024)  # Размер после пулингов: 100->50->25->12->6\n",
    "        self.dropout = nn.Dropout(0.5)\n",
    "        self.fc2 = nn.Linear(1024, num_classes)\n",
    "        \n",
    "    def forward(self, x):\n",
    "        x = self.pool(torch.relu(self.bn1(self.conv1(x))))  # -> [batch, 32, 50, 50]\n",
    "        x = self.pool(torch.relu(self.bn2(self.conv2(x))))  # -> [batch, 64, 25, 25]\n",
    "        x = self.pool(torch.relu(self.bn3(self.conv3(x))))  # -> [batch, 128, 12, 12]\n",
    "        x = self.pool(torch.relu(self.bn4(self.conv4(x))))  # -> [batch, 256, 6, 6]\n",
    "        \n",
    "        x = x.view(-1, 256 * 6 * 6)\n",
    "        x = torch.relu(self.fc1(x))\n",
    "        x = self.dropout(x)\n",
    "        x = self.fc2(x)\n",
    "        return x"
   ]
  },
  {
   "cell_type": "markdown",
   "id": "ce64ffc3-1e0c-4285-9d80-cc86a317c003",
   "metadata": {},
   "source": [
    "# Обучение"
   ]
  },
  {
   "cell_type": "code",
   "execution_count": 15,
   "id": "7eead6a2-7ab2-4562-bb18-1db662626838",
   "metadata": {},
   "outputs": [
    {
     "name": "stderr",
     "output_type": "stream",
     "text": [
      "Epoch: 1 | Train loader проход по батчам: 100%|████████████████████████████████████| 1300/1300 [02:15<00:00,  9.57it/s]\n",
      "Epoch: 1 | Val loader проход по батчам: 100%|████████████████████████████████████████| 325/325 [00:29<00:00, 11.20it/s]\n"
     ]
    },
    {
     "name": "stdout",
     "output_type": "stream",
     "text": [
      "--> Модель сохранена на эпохе 1.\n",
      "Epoch 1/7 | Train Loss: 1.2193 | Val loss: 0.1339 | Val accuracy: 95.38% | lr: 0.001\n"
     ]
    },
    {
     "name": "stderr",
     "output_type": "stream",
     "text": [
      "Epoch: 2 | Train loader проход по батчам: 100%|████████████████████████████████████| 1300/1300 [02:11<00:00,  9.90it/s]\n",
      "Epoch: 2 | Val loader проход по батчам: 100%|████████████████████████████████████████| 325/325 [00:28<00:00, 11.30it/s]\n"
     ]
    },
    {
     "name": "stdout",
     "output_type": "stream",
     "text": [
      "--> Модель сохранена на эпохе 2.\n",
      "Epoch 2/7 | Train Loss: 0.3727 | Val loss: 0.0471 | Val accuracy: 98.59% | lr: 0.001\n"
     ]
    },
    {
     "name": "stderr",
     "output_type": "stream",
     "text": [
      "Epoch: 3 | Train loader проход по батчам: 100%|████████████████████████████████████| 1300/1300 [02:05<00:00, 10.33it/s]\n",
      "Epoch: 3 | Val loader проход по батчам: 100%|████████████████████████████████████████| 325/325 [00:28<00:00, 11.29it/s]\n"
     ]
    },
    {
     "name": "stdout",
     "output_type": "stream",
     "text": [
      "--> Модель сохранена на эпохе 3.\n",
      "Epoch 3/7 | Train Loss: 0.2453 | Val loss: 0.0157 | Val accuracy: 99.48% | lr: 0.001\n"
     ]
    },
    {
     "name": "stderr",
     "output_type": "stream",
     "text": [
      "Epoch: 4 | Train loader проход по батчам:   3%|█                                     | 36/1300 [00:03<02:16,  9.29it/s]\n"
     ]
    },
    {
     "ename": "KeyboardInterrupt",
     "evalue": "",
     "output_type": "error",
     "traceback": [
      "\u001b[1;31m---------------------------------------------------------------------------\u001b[0m",
      "\u001b[1;31mKeyboardInterrupt\u001b[0m                         Traceback (most recent call last)",
      "Cell \u001b[1;32mIn[15], line 31\u001b[0m\n\u001b[0;32m     29\u001b[0m     loss\u001b[38;5;241m.\u001b[39mbackward()\n\u001b[0;32m     30\u001b[0m     optimizer\u001b[38;5;241m.\u001b[39mstep()\n\u001b[1;32m---> 31\u001b[0m     train_loss \u001b[38;5;241m+\u001b[39m\u001b[38;5;241m=\u001b[39m \u001b[43mloss\u001b[49m\u001b[38;5;241;43m.\u001b[39;49m\u001b[43mitem\u001b[49m\u001b[43m(\u001b[49m\u001b[43m)\u001b[49m\n\u001b[0;32m     32\u001b[0m train_loss \u001b[38;5;241m/\u001b[39m\u001b[38;5;241m=\u001b[39m \u001b[38;5;28mlen\u001b[39m(train_loader)\n\u001b[0;32m     34\u001b[0m model\u001b[38;5;241m.\u001b[39meval()\n",
      "\u001b[1;31mKeyboardInterrupt\u001b[0m: "
     ]
    }
   ],
   "source": [
    "num_classes = len(full_dataset.classes)\n",
    "model = FruitCNN(num_classes).to(device)\n",
    "lr = 0.001\n",
    "\n",
    "save_path = 'models/ERS-Fruits-360.pth'\n",
    "\n",
    "criterion = nn.CrossEntropyLoss()\n",
    "optimizer = optim.Adam(model.parameters(), lr=lr)\n",
    "scheduler = ReduceLROnPlateau(optimizer, mode='min', factor=0.5, patience=3, verbose=True)\n",
    "\n",
    "counter = 0\n",
    "patience = 5\n",
    "best_val_loss = float('inf')\n",
    "\n",
    "all_train_loss = []\n",
    "all_val_loss = []\n",
    "all_val_acc = []\n",
    "\n",
    "num_epochs = 7\n",
    "for epoch in range(1, num_epochs + 1):\n",
    "    model.train()\n",
    "    train_loss = 0\n",
    "    for images, labels in tqdm(train_loader, desc=f'Epoch: {epoch} | Train loader проход по батчам'):\n",
    "        images, labels = images.to(device), labels.to(device)\n",
    "        optimizer.zero_grad()\n",
    "        y_pred = model(images)\n",
    "        loss = criterion(y_pred, labels)\n",
    "        loss.backward()\n",
    "        optimizer.step()\n",
    "        train_loss += loss.item()\n",
    "    train_loss /= len(train_loader)\n",
    "    \n",
    "    model.eval()\n",
    "    val_loss = 0\n",
    "    total = 0\n",
    "    correct = 0\n",
    "    with torch.no_grad():\n",
    "        for images, labels in tqdm(val_loader, desc=f'Epoch: {epoch} | Val loader проход по батчам'):\n",
    "            images, labels = images.to(device), labels.to(device)\n",
    "            y_pred = model(images)\n",
    "            loss = criterion(y_pred, labels)\n",
    "            _, predicted = torch.max(y_pred.data, 1)\n",
    "            total += labels.size(0)\n",
    "            correct += (predicted == labels).sum().item()\n",
    "            val_loss += loss.item()\n",
    "    val_loss /= len(val_loader)\n",
    "    val_acc = 100 * correct / total\n",
    "    \n",
    "    scheduler.step(val_loss)\n",
    "\n",
    "    all_train_loss.append(train_loss)\n",
    "    all_val_loss.append(val_loss)\n",
    "    all_val_acc.append(val_acc)\n",
    "    \n",
    "    if val_loss < best_val_loss:\n",
    "        best_val_loss = val_loss\n",
    "        counter = 0\n",
    "\n",
    "        state = {\n",
    "            'model_state_dict': model.state_dict(),\n",
    "            'optimizer_state_dict': optimizer.state_dict(),\n",
    "            'epoch': epoch,\n",
    "            'train_loss': train_loss,\n",
    "            'val_loss': val_loss,\n",
    "            'accuracy': val_acc\n",
    "        }\n",
    "        torch.save(state, save_path)\n",
    "        print(f\"--> Модель сохранена на эпохе {epoch}.\")\n",
    "    else:\n",
    "        counter += 1\n",
    "        if counter >= patience:\n",
    "            print(f\"--> Early stopping на эпохе {epoch}\")\n",
    "            break\n",
    "\n",
    "    current_lr = optimizer.param_groups[0]['lr']\n",
    "    print(f\"Epoch {epoch}/{num_epochs} | Train Loss: {train_loss:.4f} | Val loss: {val_loss:.4f} | Val accuracy: {val_acc:.2f}% | lr: {current_lr}\")"
   ]
  },
  {
   "cell_type": "markdown",
   "id": "ac32f504-a888-4e17-b5cc-cdc51eded009",
   "metadata": {},
   "source": [
    "# Тестовый запрос"
   ]
  },
  {
   "cell_type": "code",
   "execution_count": 20,
   "id": "604910f9-e0eb-46c6-96b9-3e6eebe92c31",
   "metadata": {},
   "outputs": [
    {
     "name": "stderr",
     "output_type": "stream",
     "text": [
      "C:\\Users\\Михаил\\AppData\\Local\\Temp\\ipykernel_24544\\2733975621.py:6: FutureWarning: You are using `torch.load` with `weights_only=False` (the current default value), which uses the default pickle module implicitly. It is possible to construct malicious pickle data which will execute arbitrary code during unpickling (See https://github.com/pytorch/pytorch/blob/main/SECURITY.md#untrusted-models for more details). In a future release, the default value for `weights_only` will be flipped to `True`. This limits the functions that could be executed during unpickling. Arbitrary objects will no longer be allowed to be loaded via this mode unless they are explicitly allowlisted by the user via `torch.serialization.add_safe_globals`. We recommend you start setting `weights_only=True` for any use case where you don't have full control of the loaded file. Please open an issue on GitHub for any issues related to this experimental feature.\n",
      "  checkpoint = torch.load(\"_models/ERS-Fruits-360.pth\", map_location=device)\n"
     ]
    },
    {
     "name": "stdout",
     "output_type": "stream",
     "text": [
      "Истинный класс: Apple worm 1 (ID: 29)\n",
      "Предсказанный класс: Apple worm 1 (ID: 29)\n"
     ]
    },
    {
     "data": {
      "image/png": "[encoded data removed]",
      "text/plain": [
       "<Figure size 800x800 with 1 Axes>"
      ]
     },
     "metadata": {},
     "output_type": "display_data"
    }
   ],
   "source": [
    "import matplotlib.pyplot as plt\n",
    "import numpy as np\n",
    "\n",
    "num_classes = len(full_dataset.classes)\n",
    "\n",
    "checkpoint = torch.load(\"_models/ERS-Fruits-360.pth\", map_location=device)\n",
    "model = FruitCNN(num_classes).to(device)\n",
    "model.load_state_dict(checkpoint[\"model_state_dict\"])\n",
    "\n",
    "def denormalize(tensor, mean=[0.485, 0.456, 0.406], std=[0.229, 0.224, 0.225]):\n",
    "    for t, m, s in zip(tensor, mean, std):\n",
    "        t.mul_(s).add_(m)\n",
    "    return tensor\n",
    "\n",
    "image, true_label = test_dataset[5205]\n",
    "original_image = denormalize(image.clone())\n",
    "\n",
    "input_tensor = image.unsqueeze(0).to(device)\n",
    "\n",
    "# Предсказание модели\n",
    "model.eval()\n",
    "with torch.no_grad():\n",
    "    output = model(input_tensor)\n",
    "    probabilities = torch.nn.functional.softmax(output[0], dim=0)\n",
    "    _, predicted_idx = torch.max(output, 1)\n",
    "    predicted_label = predicted_idx.item()\n",
    "\n",
    "np_image = original_image.numpy().transpose((1, 2, 0))\n",
    "np_image = np.clip(np_image, 0, 1)\n",
    "\n",
    "# Получаем названия классов\n",
    "true_class = test_dataset.classes[true_label]\n",
    "predicted_class = test_dataset.classes[predicted_label]\n",
    "\n",
    "print(f\"Истинный класс: {true_class} (ID: {true_label})\")\n",
    "print(f\"Предсказанный класс: {predicted_class} (ID: {predicted_label})\")\n",
    "\n",
    "plt.figure(figsize=(8, 8))\n",
    "plt.imshow(np_image)\n",
    "\n",
    "plt.title(f'Истинный: {true_class}\\nПредсказанный: {predicted_class}', fontsize=14)\n",
    "plt.axis('off')\n",
    "plt.gca().set_frame_on(True)\n",
    "plt.gca().patch.set_edgecolor(edge_color)\n",
    "plt.gca().patch.set_linewidth(6)\n",
    "plt.show()"
   ]
  },
  {
   "cell_type": "code",
   "execution_count": null,
   "id": "3e534dc0-86fb-420a-8464-8843b1ef50ee",
   "metadata": {},
   "outputs": [],
   "source": []
  }
 ],
 "metadata": {
  "kernelspec": {
   "display_name": "Python 3 (ipykernel)",
   "language": "python",
   "name": "python3"
  },
  "language_info": {
   "codemirror_mode": {
    "name": "ipython",
    "version": 3
   },
   "file_extension": ".py",
   "mimetype": "text/x-python",
   "name": "python",
   "nbconvert_exporter": "python",
   "pygments_lexer": "ipython3",
   "version": "3.12.9"
  }
 },
 "nbformat": 4,
 "nbformat_minor": 5
}
